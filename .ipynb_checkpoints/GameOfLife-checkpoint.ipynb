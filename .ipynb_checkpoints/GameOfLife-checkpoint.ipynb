{
 "cells": [
  {
   "cell_type": "markdown",
   "metadata": {},
   "source": [
    "#Game of Life"
   ]
  },
  {
   "cell_type": "code",
   "execution_count": 7,
   "metadata": {
    "scrolled": true
   },
   "outputs": [
    {
     "name": "stdout",
     "output_type": "stream",
     "text": [
      "Initial State of game:\n",
      "[['-' 'X' 'X' '-' '-']\n",
      " ['X' '-' 'X' '-' '-']\n",
      " ['-' 'X' 'X' 'X' '-']\n",
      " ['-' 'X' 'X' '-' 'X']\n",
      " ['X' 'X' '-' 'X' '-']]\n",
      "After Generation 1:\n",
      "[['X' 'X' 'X' 'X' '-']\n",
      " ['X' '-' '-' '-' '-']\n",
      " ['X' '-' '-' '-' 'X']\n",
      " ['-' '-' '-' '-' 'X']\n",
      " ['X' 'X' '-' 'X' 'X']]\n",
      "After Generation 2:\n",
      "[['X' 'X' 'X' '-' '-']\n",
      " ['X' '-' 'X' 'X' 'X']\n",
      " ['-' 'X' '-' 'X' '-']\n",
      " ['X' 'X' 'X' '-' 'X']\n",
      " ['-' '-' 'X' 'X' 'X']]\n",
      "After Generation 3:\n",
      "[['X' '-' 'X' '-' 'X']\n",
      " ['X' '-' '-' '-' 'X']\n",
      " ['-' '-' '-' '-' '-']\n",
      " ['X' '-' '-' '-' 'X']\n",
      " ['X' '-' 'X' '-' 'X']]\n",
      "After Generation 4:\n",
      "[['-' 'X' '-' 'X' '-']\n",
      " ['-' 'X' '-' 'X' '-']\n",
      " ['X' 'X' '-' 'X' 'X']\n",
      " ['-' 'X' '-' 'X' '-']\n",
      " ['-' 'X' '-' 'X' '-']]\n",
      "After Generation 5:\n",
      "[['X' '-' '-' '-' 'X']\n",
      " ['-' 'X' '-' 'X' '-']\n",
      " ['X' 'X' '-' 'X' 'X']\n",
      " ['-' 'X' '-' 'X' '-']\n",
      " ['X' '-' '-' '-' 'X']]\n"
     ]
    }
   ],
   "source": [
    "import numpy as np\n",
    "import os, shutil\n",
    "# np.random.seed(0)\n",
    "class gameOfLife:\n",
    "    def __init__(self, n, userSeed = -1):\n",
    "        if userSeed >= 0:\n",
    "            np.random.seed(userSeed)\n",
    "        self.n = n\n",
    "        self.grid = np.random.randint(0,2, size = (n+2,n+2))\n",
    "        self.grid[0, :] = 0\n",
    "        self.grid[n+1,:]= 0\n",
    "        self.grid[:, 0] = 0\n",
    "        self.grid[:,n+1]= 0\n",
    "        \n",
    "        # PREPARE DIRECTORY \n",
    "        folder = os.getcwd() + '/temp'\n",
    "        # Create target Directory if don't exist\n",
    "        if not os.path.exists(folder):\n",
    "            os.mkdir(folder)\n",
    "        else:\n",
    "            for filename in os.listdir(folder):\n",
    "                file_path = os.path.join(folder, filename)\n",
    "                try:\n",
    "                    if os.path.isfile(file_path) or os.path.islink(file_path):\n",
    "                        os.unlink(file_path)\n",
    "                    elif os.path.isdir(file_path):\n",
    "                        shutil.rmtree(file_path)\n",
    "                except Exception as e:\n",
    "                    print('Failed to delete %s. Reason: %s' % (file_path, e))\n",
    "                    \n",
    "    def printGrid(self):\n",
    "        temp_grid = np.empty_like(self.grid, dtype=str)\n",
    "        temp_grid[self.grid == 0] = '-'\n",
    "        temp_grid[self.grid == 1] = 'X'\n",
    "        print(temp_grid[1:-1, 1:-1], sep='\\n')\n",
    "    def computeNeighbors(self,x,y):\n",
    "        x += 1\n",
    "        y += 1\n",
    "        return np.sum(self.grid[x-1:x+2, y-1:y+2]) - self.grid[x,y]  \n",
    "    def updateToNextGen(self):\n",
    "        temp_grid = np.zeros_like(self.grid)\n",
    "        for i in range(0, self.n):\n",
    "            for j in range(0, self.n):\n",
    "                count = self.computeNeighbors(i,j)\n",
    "                if count == 2 or count == 3:\n",
    "                    temp_grid[i+1,j+1] = 1\n",
    "        self.grid = np.copy(temp_grid)\n",
    "\n",
    "dimension = 5\n",
    "game = gameOfLife(dimension)\n",
    "print(\"Initial State of game:\")\n",
    "game.printGrid()\n",
    "for i in range(5):\n",
    "    print(\"After Generation {}:\".format(i+1))\n",
    "    game.updateToNextGen()\n",
    "    game.printGrid()"
   ]
  },
  {
   "cell_type": "code",
   "execution_count": null,
   "metadata": {},
   "outputs": [],
   "source": [
    "# Save image\n",
    "import os, shutil\n",
    "from PIL import Image\n",
    "\n",
    "img = Image.fromarray(self.grid, 'L')\n",
    "img.save(dirname + '/' + str(self.counter) + '.png')\n",
    "self.counter += 1\n",
    "# img.show() "
   ]
  },
  {
   "cell_type": "code",
   "execution_count": null,
   "metadata": {},
   "outputs": [],
   "source": [
    "# Make gif\n",
    "image_folder = os.fsencode(folder)\n",
    "filenames = []\n",
    "for file in os.listdir(image_folder):\n",
    "    filename = os.fsdecode(file)\n",
    "    if filename.endswith( ('.jpeg', '.png', '.gif') ):\n",
    "        filenames.append(filename)\n",
    "filenames.sort() # this iteration technique has no built in order, so sort the frames\n",
    "images = list(map(lambda filename: imageio.imread(filename), filenames)) \n",
    "\n",
    "imageio.mimsave(folder + '/GameOfLife.gif'), images, duration = 0.25) "
   ]
  }
 ],
 "metadata": {
  "kernelspec": {
   "display_name": "Python 3",
   "language": "python",
   "name": "python3"
  },
  "language_info": {
   "codemirror_mode": {
    "name": "ipython",
    "version": 3
   },
   "file_extension": ".py",
   "mimetype": "text/x-python",
   "name": "python",
   "nbconvert_exporter": "python",
   "pygments_lexer": "ipython3",
   "version": "3.7.6"
  },
  "toc": {
   "base_numbering": 1,
   "nav_menu": {},
   "number_sections": true,
   "sideBar": true,
   "skip_h1_title": false,
   "title_cell": "Table of Contents",
   "title_sidebar": "Contents",
   "toc_cell": false,
   "toc_position": {},
   "toc_section_display": true,
   "toc_window_display": false
  }
 },
 "nbformat": 4,
 "nbformat_minor": 2
}
