{
 "cells": [
  {
   "cell_type": "markdown",
   "metadata": {},
   "source": [
    "#Game of Life"
   ]
  },
  {
   "cell_type": "code",
   "execution_count": 13,
   "metadata": {
    "scrolled": true
   },
   "outputs": [
    {
     "name": "stdout",
     "output_type": "stream",
     "text": [
      "Initial State of game:\n",
      "[['-' '-' '-' ... '-' 'X' '-']\n",
      " ['X' '-' 'X' ... '-' '-' '-']\n",
      " ['X' '-' '-' ... 'X' '-' 'X']\n",
      " ...\n",
      " ['X' 'X' 'X' ... 'X' 'X' 'X']\n",
      " ['-' '-' '-' ... '-' '-' '-']\n",
      " ['X' '-' '-' ... '-' 'X' 'X']]\n"
     ]
    }
   ],
   "source": [
    "import numpy as np\n",
    "import os, shutil\n",
    "from PIL import Image\n",
    "# np.random.seed(0)\n",
    "class gameOfLife:\n",
    "    def __init__(self, n, userSeed = -1):\n",
    "        if userSeed >= 0:\n",
    "            np.random.seed(userSeed)\n",
    "        self.ndim = n # set dimension here\n",
    "        self.grid = np.random.randint(0,2, size = (n+2,n+2)) # 2-D grid for simulatiom\n",
    "        self.grid[0, :] = 0\n",
    "        self.grid[n+1,:]= 0\n",
    "        self.grid[:, 0] = 0\n",
    "        self.grid[:,n+1]= 0\n",
    "        self.counter = 0 # works as counter for the stored images\n",
    "        \n",
    "        # PREPARE DIRECTORY \n",
    "        self.folder = os.getcwd() + '/temp'\n",
    "        # Create target Directory if don't exist\n",
    "        if not os.path.exists(self.folder):\n",
    "            os.mkdir(self.folder)\n",
    "        else:\n",
    "            for filename in os.listdir(self.folder):\n",
    "                file_path = os.path.join(self.folder, filename)\n",
    "                try:\n",
    "                    if os.path.isfile(file_path) or os.path.islink(file_path):\n",
    "                        os.unlink(file_path)\n",
    "                    elif os.path.isdir(file_path):\n",
    "                        shutil.rmtree(file_path)\n",
    "                except Exception as e:\n",
    "                    print('Failed to delete %s. Reason: %s' % (file_path, e))\n",
    "                    \n",
    "    def takeSnapshot(self, showImage = False):  \n",
    "        img = Image.fromarray(self.grid * 255, 'L')\n",
    "        img.save(self.folder + '/' + str(self.counter) + '.png')\n",
    "        self.counter += 1\n",
    "        if showImage == True:\n",
    "            img.show()\n",
    "\n",
    "    def printGrid(self):\n",
    "        temp_grid = np.empty_like(self.grid, dtype=str)\n",
    "        temp_grid[self.grid == 0] = '-'\n",
    "        temp_grid[self.grid == 1] = 'X'\n",
    "        print(temp_grid[1:-1, 1:-1], sep='\\n')\n",
    "        \n",
    "    def computeNeighbors(self,x,y):\n",
    "        x += 1\n",
    "        y += 1\n",
    "        return np.sum(self.grid[x-1:x+2, y-1:y+2]) - self.grid[x,y]  \n",
    "    \n",
    "    def updateToNextGen(self):\n",
    "        temp_grid = np.zeros_like(self.grid)\n",
    "        for i in range(0, self.ndim):\n",
    "            for j in range(0, self.ndim):\n",
    "                count = self.computeNeighbors(i,j)\n",
    "                if count == 2 or count == 3:\n",
    "                    temp_grid[i+1,j+1] = 1\n",
    "        self.grid = np.copy(temp_grid)\n",
    "        \n",
    "    def simulate(self, no_of_iterations, showImage = False, print_grid = False):\n",
    "        for i in range(no_of_iterations):\n",
    "            self.takeSnapshot()\n",
    "            self.updateToNextGen()\n",
    "            if print_grid == True:\n",
    "                print(\"After Generation {}:\".format(i+1))\n",
    "                self.printGrid()\n",
    "        self.takeSnapshot()    \n",
    "    \n",
    "dimension = 10\n",
    "no_of_iterations = 100\n",
    "game = gameOfLife(dimension)\n",
    "print(\"Initial State of game:\")\n",
    "game.printGrid()\n",
    "game.simulate(no_of_iterations)"
   ]
  },
  {
   "cell_type": "code",
   "execution_count": null,
   "metadata": {},
   "outputs": [],
   "source": [
    "# Make gif\n",
    "image_folder = os.fsencode(folder)\n",
    "filenames = []\n",
    "for file in os.listdir(image_folder):\n",
    "    filename = os.fsdecode(file)\n",
    "    if filename.endswith( ('.jpeg', '.png', '.gif') ):\n",
    "        filenames.append(filename)\n",
    "filenames.sort() # this iteration technique has no built in order, so sort the frames\n",
    "images = list(map(lambda filename: imageio.imread(filename), filenames)) \n",
    "\n",
    "imageio.mimsave(folder + '/GameOfLife.gif', images, duration = 0.25) "
   ]
  }
 ],
 "metadata": {
  "kernelspec": {
   "display_name": "Python 3",
   "language": "python",
   "name": "python3"
  },
  "language_info": {
   "codemirror_mode": {
    "name": "ipython",
    "version": 3
   },
   "file_extension": ".py",
   "mimetype": "text/x-python",
   "name": "python",
   "nbconvert_exporter": "python",
   "pygments_lexer": "ipython3",
   "version": "3.7.6"
  },
  "toc": {
   "base_numbering": 1,
   "nav_menu": {},
   "number_sections": true,
   "sideBar": true,
   "skip_h1_title": false,
   "title_cell": "Table of Contents",
   "title_sidebar": "Contents",
   "toc_cell": false,
   "toc_position": {},
   "toc_section_display": true,
   "toc_window_display": false
  }
 },
 "nbformat": 4,
 "nbformat_minor": 2
}
